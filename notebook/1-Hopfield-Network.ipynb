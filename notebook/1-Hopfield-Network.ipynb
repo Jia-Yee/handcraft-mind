{
 "cells": [
  {
   "cell_type": "markdown",
   "id": "5f676de9",
   "metadata": {},
   "source": [
    "# Hopfield Network: Associative Memory Model\n",
    "\n",
    "## 1. Overview\n",
    "A **Hopfield Network** is a recurrent neural network that serves as content-addressable (\"associative\") memory. It can store patterns and recall them from noisy or partial inputs using energy minimization.\n",
    "\n",
    "## 2. Model Architecture\n",
    "- **Neurons**: Binary units with states \\( s_i \\in \\{-1, 1\\} \\) (or \\( \\{0, 1\\} \\))\n",
    "- **Connections**: Symmetric weights \\( w_{ij} = w_{ji} \\) with no self-connections \\( w_{ii} = 0 \\)\n",
    "- **Fully connected**: Every neuron connects to all others\n",
    "\n",
    "## 3. Key Formulas\n",
    "\n",
    "### Energy Function\n",
    "The network's stability is defined by:\n",
    "$$\n",
    "E = -\\frac{1}{2} \\sum_{i=1}^N \\sum_{j=1}^N w_{ij} s_i s_j\n",
    "$$\n",
    "- Stable states are local minima of \\( E \\)\n",
    "\n",
    "### Weight Learning (Hebbian Rule)\n",
    "For \\( P \\) stored patterns \\( \\{\\xi^\\mu\\} \\):\n",
    "$$\n",
    "w_{ij} = \\frac{1}{N} \\sum_{\\mu=1}^P \\xi_i^\\mu \\xi_j^\\mu \\quad \\text{(for } i \\neq j\\text{)}\n",
    "$$\n",
    "\n",
    "### State Update\n",
    "Asynchronous update rule:\n",
    "$$\n",
    "s_i \\leftarrow \\text{sgn}\\left( \\sum_{j=1}^N w_{ij} s_j \\right)\n",
    "$$\n",
    "\n",
    "## 4. Algorithm Steps\n",
    "\n",
    "1. **Storage Phase**:\n",
    "   - Compute weights via Hebbian learning\n",
    "   - Normalize by \\( 1/N \\) (number of neurons)\n",
    "\n",
    "2. **Recall Phase**:\n",
    "   - Initialize network with input pattern\n",
    "   - Update neurons asynchronously until convergence\n",
    "   - Output stable state (retrieved memory)\n",
    "\n",
    "## 5. Python Implementation\n"
   ]
  },
  {
   "cell_type": "code",
   "execution_count": 2,
   "id": "5025b063",
   "metadata": {},
   "outputs": [
    {
     "name": "stdout",
     "output_type": "stream",
     "text": [
      "Recalled pattern:\n",
      " [[ 1.  1.  1.]\n",
      " [-1.  1. -1.]\n",
      " [-1.  1. -1.]]\n"
     ]
    }
   ],
   "source": [
    "import numpy as np\n",
    "\n",
    "class HopfieldNetwork:\n",
    "    def __init__(self, size):\n",
    "        self.weights = np.zeros((size, size))\n",
    "    \n",
    "    def train(self, patterns):\n",
    "        \"\"\"Store patterns using Hebbian learning\"\"\"\n",
    "        for p in patterns:\n",
    "            p = np.reshape(p, (-1, 1))\n",
    "            self.weights += np.dot(p, p.T)\n",
    "        np.fill_diagonal(self.weights, 0)  # No self-connections\n",
    "        self.weights /= len(patterns[0])  # Normalize\n",
    "    \n",
    "    def recall(self, pattern, max_steps=100):\n",
    "        \"\"\"Retrieve pattern from memory\"\"\"\n",
    "        s = pattern.copy()\n",
    "        for _ in range(max_steps):\n",
    "            for i in range(len(s)):  # Asynchronous updates\n",
    "                s[i] = np.sign(np.dot(self.weights[i], s))\n",
    "        return s\n",
    "\n",
    "# Example Usage\n",
    "if __name__ == \"__main__\":\n",
    "    # Store letters (flattened 3x3 patterns)\n",
    "    patterns = [\n",
    "        [1, -1, 1, -1, 1, -1, 1, -1, 1],  # Checkerboard\n",
    "        [1, 1, 1, -1, 1, -1, -1, 1, -1]    # 'T' shape\n",
    "    ]\n",
    "    \n",
    "    hn = HopfieldNetwork(size=9)\n",
    "    hn.train(patterns)\n",
    "    \n",
    "    # Test noisy recall\n",
    "    noisy_pattern = [-1, -1, 1, -1, 1, -1, -1, 1, -1]  # Corrupted 'T'\n",
    "    recalled = hn.recall(noisy_pattern)\n",
    "    print(\"Recalled pattern:\\n\", np.reshape(recalled, (3, 3)))"
   ]
  }
 ],
 "metadata": {
  "kernelspec": {
   "display_name": "3.12.7",
   "language": "python",
   "name": "python3"
  },
  "language_info": {
   "codemirror_mode": {
    "name": "ipython",
    "version": 3
   },
   "file_extension": ".py",
   "mimetype": "text/x-python",
   "name": "python",
   "nbconvert_exporter": "python",
   "pygments_lexer": "ipython3",
   "version": "3.12.7"
  }
 },
 "nbformat": 4,
 "nbformat_minor": 5
}
