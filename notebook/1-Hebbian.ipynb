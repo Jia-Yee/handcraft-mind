{
 "cells": [
  {
   "cell_type": "markdown",
   "metadata": {},
   "source": [
    "# Hebbian Learninng\n",
    "Hebbian learning is a learning rule based on neuroscience, proposed by Canadian psychologist Donald Hebb in 1949. The core idea of Hebb's theory can be summarized as : \"Cells taht fire together, wire together.\" This means that when tow neurons are activated simultaneously, the strength of the connection between them increases."
   ]
  },
  {
   "cell_type": "code",
   "execution_count": null,
   "metadata": {
    "vscode": {
     "languageId": "plaintext"
    }
   },
   "outputs": [],
   "source": [
    "import numpy as np\n",
    "import matplotlib.pyplot as plt\n",
    "\n",
    "class HebbianNetwork:\n",
    "\tdef _init(self, inputsize, outputsize \n",
    "    =1, learningrate=0.1):\n",
    "    \t"
   ]
  }
 ],
 "metadata": {
  "language_info": {
   "name": "python"
  }
 },
 "nbformat": 4,
 "nbformat_minor": 2
}
